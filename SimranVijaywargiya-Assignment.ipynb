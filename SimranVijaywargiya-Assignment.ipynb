{
 "cells": [
  {
   "cell_type": "code",
   "execution_count": 23,
   "metadata": {},
   "outputs": [],
   "source": [
    "## Importing the Libraries\n",
    "import pandas as pd\n",
    "import numpy as np\n",
    "import matplotlib.pyplot as plt\n",
    "import seaborn as sns"
   ]
  },
  {
   "cell_type": "code",
   "execution_count": 24,
   "metadata": {},
   "outputs": [
    {
     "name": "stdout",
     "output_type": "stream",
     "text": [
      "            date    campaign    adgroup     ad  impressions  clicks  cost  \\\n",
      "0     2020-08-01  campaign 1  adgroup 1   ad 1           24       6  0.08   \n",
      "1     2020-08-01  campaign 1  adgroup 2   ad 1            1       0  0.00   \n",
      "2     2020-08-01  campaign 1  adgroup 3   ad 1           13       4  0.04   \n",
      "3     2020-08-01  campaign 1  adgroup 4   ad 1            5       4  0.08   \n",
      "4     2020-08-01  campaign 1  adgroup 1   ad 2          247     126  1.29   \n",
      "...          ...         ...        ...    ...          ...     ...   ...   \n",
      "4566  2021-02-28  campaign 1  adgroup 3  ad 55           19       6  0.07   \n",
      "4567  2021-02-28  campaign 1  adgroup 4  ad 55            1       0  0.00   \n",
      "4568  2021-02-28  campaign 1  adgroup 3  ad 56           16       8  0.12   \n",
      "4569  2021-02-28  campaign 1  adgroup 1  ad 56           37      13  0.23   \n",
      "4570  2021-02-28  campaign 1  adgroup 1  ad 55           19      10  0.14   \n",
      "\n",
      "      conversions  revenue  \n",
      "0               0     0.00  \n",
      "1               0     0.00  \n",
      "2               0     0.00  \n",
      "3               0     0.00  \n",
      "4               4   925.71  \n",
      "...           ...      ...  \n",
      "4566            0     0.00  \n",
      "4567            0     0.00  \n",
      "4568            1    93.20  \n",
      "4569            0     0.00  \n",
      "4570            0     0.00  \n",
      "\n",
      "[4571 rows x 9 columns]\n"
     ]
    }
   ],
   "source": [
    "## Loading Data\n",
    "df=pd.read_csv('C:/Users/HP/Downloads/data.csv')\n",
    "print(df)\n"
   ]
  },
  {
   "cell_type": "code",
   "execution_count": 25,
   "metadata": {},
   "outputs": [
    {
     "name": "stdout",
     "output_type": "stream",
     "text": [
      "<class 'pandas.core.frame.DataFrame'>\n",
      "RangeIndex: 4571 entries, 0 to 4570\n",
      "Data columns (total 9 columns):\n",
      " #   Column       Non-Null Count  Dtype  \n",
      "---  ------       --------------  -----  \n",
      " 0   date         4571 non-null   object \n",
      " 1   campaign     4571 non-null   object \n",
      " 2   adgroup      4571 non-null   object \n",
      " 3   ad           4571 non-null   object \n",
      " 4   impressions  4571 non-null   int64  \n",
      " 5   clicks       4571 non-null   int64  \n",
      " 6   cost         4571 non-null   float64\n",
      " 7   conversions  4571 non-null   int64  \n",
      " 8   revenue      4571 non-null   float64\n",
      "dtypes: float64(2), int64(3), object(4)\n",
      "memory usage: 321.5+ KB\n"
     ]
    }
   ],
   "source": [
    "## Data Preprocessing\n",
    "df.shape\n",
    "df.info()"
   ]
  },
  {
   "cell_type": "code",
   "execution_count": 26,
   "metadata": {},
   "outputs": [
    {
     "name": "stdout",
     "output_type": "stream",
     "text": [
      "0       25.000000\n",
      "1        0.000000\n",
      "2       30.769231\n",
      "3       80.000000\n",
      "4       51.012146\n",
      "          ...    \n",
      "4566    31.578947\n",
      "4567     0.000000\n",
      "4568    50.000000\n",
      "4569    35.135135\n",
      "4570    52.631579\n",
      "Name: CTR, Length: 4571, dtype: float64\n"
     ]
    }
   ],
   "source": [
    "df['CTR'] = (df['clicks']/df['impressions']*100)\n",
    "print(df['CTR'])"
   ]
  },
  {
   "cell_type": "code",
   "execution_count": 27,
   "metadata": {},
   "outputs": [
    {
     "name": "stdout",
     "output_type": "stream",
     "text": [
      "0       1.333333\n",
      "1            NaN\n",
      "2       1.000000\n",
      "3       2.000000\n",
      "4       1.023810\n",
      "          ...   \n",
      "4566    1.166667\n",
      "4567         NaN\n",
      "4568    1.500000\n",
      "4569    1.769231\n",
      "4570    1.400000\n",
      "Name: CPC, Length: 4571, dtype: float64\n"
     ]
    }
   ],
   "source": [
    "df['CPC'] = (df['cost']/df['clicks']*100)\n",
    "print(df['CPC'])"
   ]
  },
  {
   "cell_type": "code",
   "execution_count": 28,
   "metadata": {},
   "outputs": [
    {
     "name": "stdout",
     "output_type": "stream",
     "text": [
      "0         inf\n",
      "1         NaN\n",
      "2         inf\n",
      "3         inf\n",
      "4       32.25\n",
      "        ...  \n",
      "4566      inf\n",
      "4567      NaN\n",
      "4568    12.00\n",
      "4569      inf\n",
      "4570      inf\n",
      "Name: CPA, Length: 4571, dtype: float64\n"
     ]
    }
   ],
   "source": [
    "df['CPA'] = (df['cost']/df['conversions']*100)\n",
    "print(df['CPA'])"
   ]
  },
  {
   "cell_type": "code",
   "execution_count": 29,
   "metadata": {},
   "outputs": [
    {
     "name": "stdout",
     "output_type": "stream",
     "text": [
      "0           0.000000\n",
      "1                NaN\n",
      "2           0.000000\n",
      "3           0.000000\n",
      "4       71760.465116\n",
      "            ...     \n",
      "4566        0.000000\n",
      "4567             NaN\n",
      "4568    77666.666667\n",
      "4569        0.000000\n",
      "4570        0.000000\n",
      "Name: ROI, Length: 4571, dtype: float64\n"
     ]
    }
   ],
   "source": [
    "df['ROI'] = (df['revenue']/df['cost']*100)\n",
    "print(df['ROI'])"
   ]
  },
  {
   "cell_type": "code",
   "execution_count": 30,
   "metadata": {},
   "outputs": [],
   "source": [
    "subset_df = df[['CTR', 'CPC', 'CPA', 'ROI']].copy()"
   ]
  },
  {
   "cell_type": "code",
   "execution_count": 21,
   "metadata": {},
   "outputs": [
    {
     "data": {
      "image/png": "[encoded data removed]",
      "text/plain": [
       "<Figure size 720x720 with 4 Axes>"
      ]
     },
     "metadata": {
      "needs_background": "light"
     },
     "output_type": "display_data"
    }
   ],
   "source": [
    "p1 = sns.clustermap(subset_df.corr())"
   ]
  },
  {
   "cell_type": "code",
   "execution_count": 22,
   "metadata": {},
   "outputs": [
    {
     "data": {
      "text/html": [
       "<div>\n",
       "<style scoped>\n",
       "    .dataframe tbody tr th:only-of-type {\n",
       "        vertical-align: middle;\n",
       "    }\n",
       "\n",
       "    .dataframe tbody tr th {\n",
       "        vertical-align: top;\n",
       "    }\n",
       "\n",
       "    .dataframe thead th {\n",
       "        text-align: right;\n",
       "    }\n",
       "</style>\n",
       "<table border=\"1\" class=\"dataframe\">\n",
       "  <thead>\n",
       "    <tr style=\"text-align: right;\">\n",
       "      <th></th>\n",
       "      <th>CTR</th>\n",
       "      <th>CPC</th>\n",
       "      <th>CPA</th>\n",
       "      <th>ROI</th>\n",
       "    </tr>\n",
       "  </thead>\n",
       "  <tbody>\n",
       "    <tr>\n",
       "      <th>CTR</th>\n",
       "      <td>1.000000</td>\n",
       "      <td>0.066679</td>\n",
       "      <td>0.008503</td>\n",
       "      <td>-0.025510</td>\n",
       "    </tr>\n",
       "    <tr>\n",
       "      <th>CPC</th>\n",
       "      <td>0.066679</td>\n",
       "      <td>1.000000</td>\n",
       "      <td>0.473889</td>\n",
       "      <td>-0.061326</td>\n",
       "    </tr>\n",
       "    <tr>\n",
       "      <th>CPA</th>\n",
       "      <td>0.008503</td>\n",
       "      <td>0.473889</td>\n",
       "      <td>1.000000</td>\n",
       "      <td>-0.167011</td>\n",
       "    </tr>\n",
       "    <tr>\n",
       "      <th>ROI</th>\n",
       "      <td>-0.025510</td>\n",
       "      <td>-0.061326</td>\n",
       "      <td>-0.167011</td>\n",
       "      <td>1.000000</td>\n",
       "    </tr>\n",
       "  </tbody>\n",
       "</table>\n",
       "</div>"
      ],
      "text/plain": [
       "          CTR       CPC       CPA       ROI\n",
       "CTR  1.000000  0.066679  0.008503 -0.025510\n",
       "CPC  0.066679  1.000000  0.473889 -0.061326\n",
       "CPA  0.008503  0.473889  1.000000 -0.167011\n",
       "ROI -0.025510 -0.061326 -0.167011  1.000000"
      ]
     },
     "execution_count": 22,
     "metadata": {},
     "output_type": "execute_result"
    }
   ],
   "source": [
    "corr = subset_df.corr(method='pearson')\n",
    "corr"
   ]
  },
  {
   "cell_type": "code",
   "execution_count": 32,
   "metadata": {},
   "outputs": [
    {
     "data": {
      "text/plain": [
       "<matplotlib.axes._subplots.AxesSubplot at 0x19f6718340>"
      ]
     },
     "execution_count": 32,
     "metadata": {},
     "output_type": "execute_result"
    },
    {
     "data": {
      "image/png": "[encoded data removed]",
      "text/plain": [
       "<Figure size 432x288 with 1 Axes>"
      ]
     },
     "metadata": {
      "needs_background": "light"
     },
     "output_type": "display_data"
    }
   ],
   "source": [
    "df.plot(kind='scatter',x=\"impressions\",y=\"clicks\")"
   ]
  },
  {
   "cell_type": "code",
   "execution_count": 33,
   "metadata": {},
   "outputs": [
    {
     "data": {
      "text/plain": [
       "<matplotlib.axes._subplots.AxesSubplot at 0x19f6783820>"
      ]
     },
     "execution_count": 33,
     "metadata": {},
     "output_type": "execute_result"
    },
    {
     "data": {
      "image/png": "[encoded data removed]",
      "text/plain": [
       "<Figure size 432x288 with 1 Axes>"
      ]
     },
     "metadata": {
      "needs_background": "light"
     },
     "output_type": "display_data"
    }
   ],
   "source": [
    "df.plot(kind='scatter',x=\"cost\",y=\"revenue\")"
   ]
  },
  {
   "cell_type": "code",
   "execution_count": null,
   "metadata": {},
   "outputs": [],
   "source": []
  },
  {
   "cell_type": "code",
   "execution_count": null,
   "metadata": {},
   "outputs": [],
   "source": []
  }
 ],
 "metadata": {
  "kernelspec": {
   "display_name": "Python 3",
   "language": "python",
   "name": "python3"
  },
  "language_info": {
   "codemirror_mode": {
    "name": "ipython",
    "version": 3
   },
   "file_extension": ".py",
   "mimetype": "text/x-python",
   "name": "python",
   "nbconvert_exporter": "python",
   "pygments_lexer": "ipython3",
   "version": "3.8.3"
  }
 },
 "nbformat": 4,
 "nbformat_minor": 4
}
